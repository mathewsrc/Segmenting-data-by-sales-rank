{
  "nbformat": 4,
  "nbformat_minor": 0,
  "metadata": {
    "colab": {
      "provenance": [],
      "collapsed_sections": [],
      "include_colab_link": true
    },
    "kernelspec": {
      "name": "python3",
      "display_name": "Python 3"
    },
    "language_info": {
      "name": "python"
    }
  },
  "cells": [
    {
      "cell_type": "markdown",
      "metadata": {
        "id": "view-in-github",
        "colab_type": "text"
      },
      "source": [
        "<a href=\"https://colab.research.google.com/github/punkmic/Segmenting-data-by-sales-rank/blob/master/MSDSTopicModel_Lab1_SegmentingData.ipynb\" target=\"_parent\"><img src=\"https://colab.research.google.com/assets/colab-badge.svg\" alt=\"Open In Colab\"/></a>"
      ]
    },
    {
      "cell_type": "markdown",
      "source": [
        "# MSDS Marketing Text Analytics, Unit 2 Lab 1: Segmenting by sales rank"
      ],
      "metadata": {
        "id": "H3OCH9LEDszv"
      }
    },
    {
      "cell_type": "markdown",
      "source": [
        "## ⚡️ Make a Copy\n",
        "\n",
        "Save a copy of this notebook in your Google Drive before continuing. Be sure to edit your own copy, not the original notebook."
      ],
      "metadata": {
        "id": "okuOCkBN4GSb"
      }
    },
    {
      "cell_type": "markdown",
      "source": [
        "## 🔬 How to complete this lab"
      ],
      "metadata": {
        "id": "I22OoYwL5ktD"
      }
    },
    {
      "cell_type": "markdown",
      "source": [
        "### Follow along\n",
        "\n",
        "This is a hands-on lab. Step through the notebook, read and understand the content, and execute the code cells. Be sure you understand each step along the way -- don't just execute the cells and move on without understanding what happened.\n"
      ],
      "metadata": {
        "id": "h7Fo_T1J7Zk7"
      }
    },
    {
      "cell_type": "markdown",
      "source": [
        "### Do the work\n",
        "\n",
        "There are some DIY portions in this notebook. You will need to complete these portions in order to complete the lab. Provided you have followed along with understanding, these should be straightforward tasks to complete.\n"
      ],
      "metadata": {
        "id": "aLKGLK8S7l8u"
      }
    },
    {
      "cell_type": "markdown",
      "source": [
        "### Answer the questions.\n",
        "\n",
        "There are questions along the way that you are meant to answer. These will verify that you have followed along and will check your understanding. **Your answers to these questions should be transferred to the Quiz in Coursera** in order to receive credit for the lab."
      ],
      "metadata": {
        "id": "q5Lg8e_v58HZ"
      }
    },
    {
      "cell_type": "markdown",
      "source": [
        "## Introduction"
      ],
      "metadata": {
        "id": "GqUOWcgq8np3"
      }
    },
    {
      "cell_type": "markdown",
      "source": [
        "Not all Amazon products in a product category are the same. Some products are purchased a lot, others are not. The purpose here is to leverage the metadata in the Amazon product entries and pull out products that sell a lot.\n",
        "\n",
        "To do this you will iterate through both the product and review data. First you will inspect the product metadata to find top product ASINS, then you'll go through the review data to pull the matching reviews for those ASINS."
      ],
      "metadata": {
        "id": "E7ocUjb7Dt7z"
      }
    },
    {
      "cell_type": "markdown",
      "source": [
        "## **⚡️ Preparation:** Get the data files\n",
        "\n",
        "Before starting you will need to copy the following data files up to your Google Drive account. These files are available in the course resources in Coursera:\n",
        "\n",
        "[Amazon reviews and product metadata files](https://www.coursera.org/learn/unsupervised-text-classification-for-marketing-analytics/resources/kNX7Q)"
      ],
      "metadata": {
        "id": "Fn7OToPBJJm1"
      }
    },
    {
      "cell_type": "markdown",
      "source": [
        "## Mount Google Drive\n",
        "\n",
        "After uploading the files to your Google Drive, mount Drive in order to allow Colab to access the files."
      ],
      "metadata": {
        "id": "n4EvHwtAJdPc"
      }
    },
    {
      "cell_type": "code",
      "source": [
        "from google.colab import drive\n",
        "drive.mount('/content/drive')"
      ],
      "metadata": {
        "id": "5OYzsRlnJY8q"
      },
      "execution_count": null,
      "outputs": []
    },
    {
      "cell_type": "markdown",
      "source": [
        "## Imports"
      ],
      "metadata": {
        "id": "vDmAso5yKmca"
      }
    },
    {
      "cell_type": "code",
      "source": [
        "import gzip\n",
        "import json"
      ],
      "metadata": {
        "id": "P7k6-unHKloo"
      },
      "execution_count": null,
      "outputs": []
    },
    {
      "cell_type": "code",
      "source": [
        "import itertools"
      ],
      "metadata": {
        "id": "dMYKAtPreEuQ"
      },
      "execution_count": null,
      "outputs": []
    },
    {
      "cell_type": "markdown",
      "source": [
        "## Inspecting the data"
      ],
      "metadata": {
        "id": "rZxZE-cU2kxt"
      }
    },
    {
      "cell_type": "markdown",
      "source": [
        "### The JSON-L data format\n",
        "\n",
        "If you look directly in the data file, you will find that it is in a format of one product-per line. Each product is a json data structure. This is an unofficial data format commonly referred to as JSON-L (the -L meaning per-line).\n",
        "\n",
        "⚠️ **Data format differs from the source data:** Unlike the reviews data, which was originally distributed in json-l format, the metadata is distributed as lines of python code that need to be evaluated. We have done this evaluation for you and re-formatted the data file. The file available in the course assets is in the re-formatted json-l.\n",
        "\n",
        "### The product data structure\n",
        "\n",
        "Looking at the individual lines, you would find a product data structure like the following example Nike product that has been formatted for easier reading:\n",
        "\n",
        "```\n",
        "{\n",
        "    \"asin\": \"B00APTJF6G\",\n",
        "    \"related\": {\n",
        "        \"also_bought\": [ \"B003JK5Y8G\", \"B00B2V1EEW\" ],\n",
        "        \"also_viewed\": [\n",
        "            \"B003JK5Y8G\", \"B00CB3259I\", \"B008QYSBRQ\", \"B00B2V1EEW\", \"B00E0WL76U\",\n",
        "            \"B00CHQTGL4\", \"B00KQQ6HDW\", \"B008EMDAB2\", \"B008IBB2V4\", \"B00E0WKOAA\",\n",
        "            \"B0052H0M9K\", \"B00HUXPAI2\", \"B00K5YT3KO\", \"B00CUQZYHG\", \"B00J8V3PDG\",\n",
        "            \"B00APTKB5K\", \"B001GUSWJ4\", \"B00CM0COS2\", \"B00J2JODHQ\", \"B00E0NOFUO\",\n",
        "            \"B00IDCBLXC\", \"B009IUDL0O\", \"B00JG6J2IA\", \"B00JJ6RCCK\", \"B008K6OIIG\",\n",
        "            \"B00KHYBFPI\", \"B009O5KX7M\", \"B00GS1X0CK\", \"B00K0TM84M\", \"B00BYCCJSE\",\n",
        "            \"B00DGCXOES\", \"B00DRMMYFW\", \"B00IURRG02\", \"B007T8HL9O\", \"B00FL837DI\",\n",
        "            \"B006JRPQN4\", \"B008EMBHSA\", \"B00E3G4V02\", \"B004N6UVPG\", \"B00DU5UV60\",\n",
        "            \"B00J8UU6MU\", \"B00EEC7OI6\", \"B00EDW2MG6\", \"B00IK609JI\", \"B008IB8TOM\",\n",
        "            \"B00GN9V66Y\", \"B00KPZ6DSS\", \"B00HLMTTFM\", \"B00EJT1CEG\", \"B00DRL3EBQ\",\n",
        "            \"B00IURWBTI\", \"B00GS1X1BU\" ],\n",
        "        \"bought_together\": [ \"B003JK5Y8G\", \"B00B2V1EEW\", \"B00E9ZATJO\" ]\n",
        "    },\n",
        "    \"title\": \"Nike Womens Free TR Fit 3 Running Shoes\",\n",
        "    \"price\": 88.78,\n",
        "    \"salesRank\": {\n",
        "        \"Shoes\": 73520\n",
        "    },\n",
        "    \"imUrl\": \"http://ecx.images-amazon.com/images/I/41ZGSvJDi%2BL._SX395_.jpg\",\n",
        "    \"brand\": \"Nike\",\n",
        "    \"categories\": [\n",
        "        [\n",
        "            \"Clothing, Shoes & Jewelry\",\n",
        "            \"N\",\n",
        "            \"Nike\"\n",
        "        ],\n",
        "        [\n",
        "            \"Clothing, Shoes & Jewelry\",\n",
        "            \"Women\",\n",
        "            \"Shoes\",\n",
        "            \"Athletic\",\n",
        "            \"Running\"\n",
        "        ]\n",
        "    ]\n",
        "}\n",
        "```\n",
        "\n",
        "### Some things to note:\n",
        "\n",
        "1. This product has been set to have the brand \"Nike\". However, if you dig into the raw data, you will see that not all products have a brand associated with them. For this reason, we will be using the brand names embedded in the category data to segment this data by brand.\n",
        "\n",
        "2. The category data is a list of lists. We will need to either flatten this data, or iterate it (we show you both!) in order to find the brand name in the categories.\n",
        "\n",
        "3. salesRank is provided as a key-value pair in the format of category:rank. This is the sales rank of the product within that product category, where a lower number is a better ranking."
      ],
      "metadata": {
        "id": "6FM3hjHnnG6f"
      }
    },
    {
      "cell_type": "markdown",
      "source": [
        "## 👟 Discovering the Nike ASINs"
      ],
      "metadata": {
        "id": "tls4dOf42wMJ"
      }
    },
    {
      "cell_type": "markdown",
      "source": [
        "\n",
        "Since not all products have a brand value set, we will extract ASINs for products with \"Nike\" in the categories. We will ignore the title case of instances of Nike to be sure we catch things like NIKE and nike.\n",
        "\n",
        "💡 **On brands and ambiguity:** Nike is an unambiguous brand name, so we can be reasonably sure of our results. Given a more general name that might show up in the category data, you would probably have to work a little harder at digging out the ASINs for this data. "
      ],
      "metadata": {
        "id": "hY25J6rZr3Co"
      }
    },
    {
      "cell_type": "markdown",
      "source": [
        "### Build a list of Nike ASINs"
      ],
      "metadata": {
        "id": "I3FOo-ShtSZl"
      }
    },
    {
      "cell_type": "markdown",
      "source": [
        "The following code to build a list of Nike ASINs has been completed for you. Read through the code, execute it, and be sure you understand how it works. Consider also reading the optional tips below for variations on how this code could be handled."
      ],
      "metadata": {
        "id": "ENAtAeWQJwBv"
      }
    },
    {
      "cell_type": "code",
      "source": [
        "asins = []\n",
        "\n",
        "# !!!\n",
        "# To run this code, you will need to have downloaded the metadata file from the\n",
        "# course assets and upload it to your Google Drive. See the notes about that file\n",
        "# regarding how it was processed from the original file into json-l format.\n",
        "\n",
        "with gzip.open(\"drive/MyDrive/meta_Clothing_Shoes_and_Jewelry.jsonl.gz\") as products:\n",
        "    for product in products:\n",
        "        data = json.loads(product)\n",
        "        categories = []\n",
        "        for category_list in data.get(\"categories\", []):\n",
        "            _catlist = []\n",
        "            for item in category_list:\n",
        "                _catlist.append(item.lower())\n",
        "            categories += _catlist\n",
        "        if \"nike\" in categories:\n",
        "            asins.append(data[\"asin\"])"
      ],
      "metadata": {
        "id": "90oVgbjcKfGW"
      },
      "execution_count": null,
      "outputs": []
    },
    {
      "cell_type": "markdown",
      "source": [
        "The length of `asins` will tell us how many we have:"
      ],
      "metadata": {
        "id": "Q9Rd8ZMOzbBH"
      }
    },
    {
      "cell_type": "code",
      "source": [
        "len(asins)"
      ],
      "metadata": {
        "id": "KRrceZ9By7QF"
      },
      "execution_count": null,
      "outputs": []
    },
    {
      "cell_type": "markdown",
      "source": [
        "Inspect a few to see that things look as expected:"
      ],
      "metadata": {
        "id": "UuZyukUGzhZ6"
      }
    },
    {
      "cell_type": "code",
      "source": [
        "asins[:3]"
      ],
      "metadata": {
        "id": "PaqpAPT5vt83"
      },
      "execution_count": null,
      "outputs": []
    },
    {
      "cell_type": "markdown",
      "source": [
        "---\n",
        "\n",
        "## 🧐 Lab Quiz Question #1\n",
        "\n",
        "What is the number of Nike ASINs extracted from the product metadata? Enter this number as your answer to Question #1 in Coursera.\n",
        "\n",
        "---"
      ],
      "metadata": {
        "id": "CX1UoyFL8_W5"
      }
    },
    {
      "cell_type": "markdown",
      "source": [
        "---\n",
        "\n",
        "### 🐍 **Optional:** Simplify things with a list comprehension\n",
        "\n",
        "Take a closer look at this code from above:\n",
        "\n",
        "```\n",
        "       for category_list in data.get(\"categories\", []):\n",
        "            _catlist = []\n",
        "            for item in category_list:\n",
        "                _catlist.append(item.lower())\n",
        "            categories += _catlist\n",
        "```\n",
        "\n",
        "We had to do this nested iteration in order to normalize the categories to lowercase format. However, there is an opportunity to use a list comprehension here to clean things up a bit and make it all a bit more \"Pythonic\". The resulting code might look like this:\n",
        "\n",
        "```\n",
        "       for category_list in data.get(\"categories\", []):\n",
        "            _catlist = [ item.lower() for item in category_list ]\n",
        "            categories += _catlist\n",
        "```\n",
        "\n",
        "In fact, you could take it a step further and replace that entire block with a nested comprehension ... but at some point it is important to think about the tradeoffs between cleverness and readability.\n",
        "\n",
        "Another way to flatten the list rather than iterating it would be to make use of the handy itertools module.\n",
        "\n",
        "---"
      ],
      "metadata": {
        "id": "ULm7azEfcoG6"
      }
    },
    {
      "cell_type": "markdown",
      "source": [
        "### 🐍 **Optional:** Use itertools to flatten the list\n",
        "\n",
        "The [itertools module](https://docs.python.org/3/library/itertools.html) provides some handy convenience tools for dealing with various iterable things. Here is what the above code might look like using itertools to flatten the categories:\n",
        "\n",
        "```\n",
        "    for product in products:\n",
        "        data = json.loads(product)\n",
        "        categories = itertools.chain(*data.get(\"categories\", []))\n",
        "        categories = [c.lower() for c in categories]\n",
        "```\n",
        "\n",
        "Keep `itertools` in mind when you are working with iterable data sets.\n",
        "\n",
        "---"
      ],
      "metadata": {
        "id": "Ev2baQJGyke4"
      }
    },
    {
      "cell_type": "markdown",
      "source": [
        "## 🔁 Recap so far"
      ],
      "metadata": {
        "id": "39c5GlSV2Nfv"
      }
    },
    {
      "cell_type": "markdown",
      "source": [
        "So far, we have taken a look at the data to get a sense of the data structure. We have seen that:\n",
        "\n",
        " - Product metadata is in JSON-L format with one json-encoded product per line of the file.\n",
        " - Products are identified by an ASIN value keyed as \"asin\"\n",
        " - Some products have a \"brand\" key, but not all.\n",
        " - Products have a \"categories\" structure which is a list of lists. The brand can be found among the categories even when there is no \"brand\" key on the data.\n",
        "\n",
        "We have then used this information to extract a list of ASINs for the products of a specific brand."
      ],
      "metadata": {
        "id": "Fh4F6AT823W1"
      }
    },
    {
      "cell_type": "markdown",
      "source": [
        "## Thinking about segmentation"
      ],
      "metadata": {
        "id": "iCpfRTczAaSt"
      }
    },
    {
      "cell_type": "markdown",
      "source": [
        "You should have extracted something over 8000 ASINs above, all having \"Nike\" as a category.\n",
        "\n",
        "> 💡 **Hint:** The exact number of Nike ASINs is the answer to Quiz question #1!\n",
        "\n",
        "\n",
        "When doing an analysis like this, you will often not want to look at everything all at once. For this reason, you might segment the data in various ways. It is important to think ahead and to strategize a bit when considering segmentation.\n",
        "\n",
        "> 🤔 **Food for thought:** Looking at the data, what are some ways you might consider segmenting for useful analysis? Here we use a simple data point in the data. In an upcoming assignment, you will use natural language process (NLP) methods to segment the data according to the language of the text entered by the reviewers.\n",
        "\n",
        "Here, you will implement a very straightforward and common kind of segmentation for sales related data. You will take advantage of the \"salesRank\" information on the products, and build a list of just the top selling Nike products."
      ],
      "metadata": {
        "id": "kaOVisIV9yVb"
      }
    },
    {
      "cell_type": "markdown",
      "source": [
        "## 📈 Taking a look at sales rank"
      ],
      "metadata": {
        "id": "iHoLeZdhGFI0"
      }
    },
    {
      "cell_type": "markdown",
      "source": [
        "Looking at the data above product example again, recall that there is a \"salesRank\" key which gives us the product's categorical rank in the format:\n",
        "\n",
        "```\n",
        "    { category: rank }\n",
        "```\n",
        "\n",
        "We are interested in extracting this rank data in order to produce a data structure of sales ranks by ASIN.\n",
        "\n",
        "> **Coding Task:** Below, you will do the work of building a dictionary structure of `ASIN:SalesRank` key-value pairs. The code will be much like the code above to create a list of ASINs, but along the way, you will extract the sales rank and include that information in the data structure.\n",
        "\n",
        "The sales rank is a bit unusual as a dictionary structure in that it is just a single key-value pair. We want to extract this information from the products where it exists, and do so in a way that will not break where it does not. One algorithm for doing this would be:\n",
        "\n",
        "\n",
        " - Check that \"salesRank\" both exists **and** contains information. E.g.:\n",
        " \n",
        "    ```{\"Shoes\": 73520}```\n",
        "\n",
        " - Convert the `.items()` of the sales rank dictionary into a list for indexing. E.g.:\n",
        "\n",
        "    ```[(\"Shoes\", 73520)]```\n",
        "\n",
        " - Take the 0-index item of the list, which is a (category, rank) tuple. E.g.:\n",
        " \n",
        "    ```(\"Shoes\", 73520)```\n",
        "\n",
        " - Take the 1-index item of that tuple, which is the rank. E.g.: \n",
        " \n",
        "    ```73520```\n",
        "\n",
        "\n",
        "\n",
        "\n"
      ],
      "metadata": {
        "id": "r4VSXFXpyrIg"
      }
    },
    {
      "cell_type": "markdown",
      "source": [
        "## 🔨 Do the work"
      ],
      "metadata": {
        "id": "TJ78ZNKGFO05"
      }
    },
    {
      "cell_type": "markdown",
      "source": [
        "The code cell below looks a lot like the ASINs extraction code that you executed above. But this code will not execute as-is!\n",
        "\n",
        "Your job is to complete the last part of this code to populate the `sales_ranks` dictionary with product sales ranks keyed by ASIN.\n",
        "\n",
        "The resulting data structure will have the following format:\n",
        "\n",
        "```\n",
        "    {\n",
        "        'B0000V9K32': 67039,\n",
        "        'B0000V9K3W': 102054,\n",
        "        'B0000V9K46': 116131\n",
        "\n",
        "        ... (etc.)\n",
        "\n",
        "    }\n",
        "```\n",
        "\n",
        "Correctly implemented, your resulting sales_rank dictionary should have 7962 elements."
      ],
      "metadata": {
        "id": "zemwsmsGFTe-"
      }
    },
    {
      "cell_type": "markdown",
      "source": [
        "> 💡 **Pro tip:** Jumping straight into the code below could get frustrating really quickly. You could find your self looping and re-looping 8000+ products in a draining excercize of troubleshoot-and-wait iterations.\n",
        "\n",
        "> When you have a big task like this, consider how to make it smaller in order to make the development easier. A simple thing here would be just to work with a small section of the data. Consider this code snippet for one approach:\n",
        "\n",
        "```\n",
        "with open(somefile) as f:\n",
        "    count = 0\n",
        "    for i, line in enumerate(f):\n",
        "        if i > 10:\n",
        "            break\n",
        "        ...\n",
        "```\n",
        "\n",
        "We have included similar break code in a commented section of the code below. If you make use of this break, just be sure to take it back out to run all the products in the end. Your final sales_rank data should have 7962 items."
      ],
      "metadata": {
        "id": "KUqKO7CHHcHe"
      }
    },
    {
      "cell_type": "code",
      "source": [
        "sales_ranks = {}\n",
        "\n",
        "with gzip.open(\"drive/MyDrive/meta_Clothing_Shoes_and_Jewelry.jsonl.gz\") as products:\n",
        "    for i, product in enumerate(products):\n",
        "        #Uncomment these lines to reduce the debug cycle for troubleshooting only !!!\n",
        "        #if i > 10000: # 10000 because we don't hit Nike products for a while\n",
        "        #    break\n",
        "        data = json.loads(product)\n",
        "        categories = []\n",
        "        for category_list in data.get(\"categories\", []):\n",
        "            _catlist = []\n",
        "            for item in category_list:\n",
        "                if item.strip() != item:\n",
        "                    print(category_list)\n",
        "                _catlist.append(item.lower())\n",
        "            categories += _catlist\n",
        "        if \"nike\" in categories:\n",
        "            if data.get(\"salesRank\"):\n",
        "                # TODO: Complete the extraction of sales rank and populate\n",
        "                # that information into the sales_ranks dictionary, keyed\n",
        "                # by the asin value."
      ],
      "metadata": {
        "id": "-2KYfu3HKOfq"
      },
      "execution_count": null,
      "outputs": []
    },
    {
      "cell_type": "markdown",
      "source": [
        "Check the length of `sales_rank`"
      ],
      "metadata": {
        "id": "4fs42pvwLlrQ"
      }
    },
    {
      "cell_type": "code",
      "source": [
        "len(sales_ranks)"
      ],
      "metadata": {
        "id": "NSxsylzmHDBT"
      },
      "execution_count": null,
      "outputs": []
    },
    {
      "cell_type": "markdown",
      "source": [
        "Inspect the first few items of `sales_rank`"
      ],
      "metadata": {
        "id": "nYCAIVMJLhXS"
      }
    },
    {
      "cell_type": "code",
      "source": [
        "dict(list(sales_ranks.items())[:3])"
      ],
      "metadata": {
        "id": "Gd7vlUb_L_7a"
      },
      "execution_count": null,
      "outputs": []
    },
    {
      "cell_type": "markdown",
      "source": [
        "## 🧐 Lab Quiz Questions #2 and #3"
      ],
      "metadata": {
        "id": "eIl72H62OjMP"
      }
    },
    {
      "cell_type": "markdown",
      "source": [
        "**Q2:** What is the best ranking Nike product ASIN for which we have sales rank data? Recall that smaller ranking values are better.\n",
        "\n",
        "**Q3:** What is its rank?\n",
        "\n",
        "Use the following code snippet to answer these questions:"
      ],
      "metadata": {
        "id": "vvWqR-z6MBMP"
      }
    },
    {
      "cell_type": "code",
      "source": [
        "import operator\n",
        "ordered_asin_ranks = sorted(sales_ranks.items(), key=operator.itemgetter(1))\n",
        "ordered_asin_ranks[0]"
      ],
      "metadata": {
        "id": "7JmaU5QTMrCp"
      },
      "execution_count": null,
      "outputs": []
    },
    {
      "cell_type": "markdown",
      "source": [
        "### 🐍 Python Tip\n",
        "\n",
        "See the [Python sorting how-to](https://docs.python.org/3/howto/sorting.html#sortinghowto) for more information about advanced sortings like the one above."
      ],
      "metadata": {
        "id": "b_YKJIyYPH42"
      }
    },
    {
      "cell_type": "markdown",
      "source": [
        "## 📊 Plot a histogram"
      ],
      "metadata": {
        "id": "bLirAE7mS-lI"
      }
    },
    {
      "cell_type": "markdown",
      "source": [
        "You have now gathered all the product ranking data. For analysis, however, we really just want to look at the top ranking products. How many products, you ask? A histogram will help us to make that decision."
      ],
      "metadata": {
        "id": "iVcHnsL8TbhJ"
      }
    },
    {
      "cell_type": "markdown",
      "source": [
        "### 🐍 The Seaborn library\n",
        "\n",
        "[Seaborn](https://seaborn.pydata.org/) is a statistical data visualization library that makes quick work of some common types of visualizations. Here we see that it makes histogram plotting almost trivial.\n",
        "\n",
        "The histogram (a.k.a. [distplot](https://seaborn.pydata.org/generated/seaborn.displot.html#seaborn.displot) with `kind` set to \"hist\", the default) in seaborn simply takes a list of values. In this case, we want to plot the sales ranks, which is just the values list of the sale_ranks dictionary:"
      ],
      "metadata": {
        "id": "yVaWHA-QT0ow"
      }
    },
    {
      "cell_type": "code",
      "source": [
        "import seaborn as sns\n",
        "plot = sns.distplot(list(sales_ranks.values()))"
      ],
      "metadata": {
        "id": "tKuZiE8OUuR1"
      },
      "execution_count": null,
      "outputs": []
    },
    {
      "cell_type": "markdown",
      "source": [
        "You can see here that there is quite a long tail of low-ranking products, i.e. large values going to the right on the x-axis. Some of these rankings are low enough that Seaborn has plotted at a scale of 1 x 10^6. It looks like our lowest ranking product ranks as about the 3.5 millionth best selling product in it's category!\n",
        "\n",
        "We can verify this simply by looking at the last item of the ordered list we produced above:"
      ],
      "metadata": {
        "id": "8sFaWpkCgqRq"
      }
    },
    {
      "cell_type": "code",
      "source": [
        "ordered_asin_ranks[-1]"
      ],
      "metadata": {
        "id": "P1MjQwQdjABH"
      },
      "execution_count": null,
      "outputs": []
    },
    {
      "cell_type": "markdown",
      "source": [
        "At a glance, we can see that the bulk of our ranked products, however, fall into the range of 0 to 3000, where 3000 is indicated as 0.5 x 1x10^6.\n",
        "\n",
        "For purposes of analysis, then, let's create a filtered subset of the list that contains only ASINs of products with a sales rank of 3000 or better."
      ],
      "metadata": {
        "id": "Ub3N3FVAjgQ-"
      }
    },
    {
      "cell_type": "code",
      "source": [
        "best_asins = [asin for asin, rank in sales_ranks.items() if rank <= 3000]"
      ],
      "metadata": {
        "id": "VT7VByeVk5aV"
      },
      "execution_count": null,
      "outputs": []
    },
    {
      "cell_type": "markdown",
      "source": [
        "### Inspect a few items:"
      ],
      "metadata": {
        "id": "4-CVx2VLlm_R"
      }
    },
    {
      "cell_type": "code",
      "source": [
        "best_asins[:3]"
      ],
      "metadata": {
        "id": "4-VHUo_Jlkac"
      },
      "execution_count": null,
      "outputs": []
    },
    {
      "cell_type": "markdown",
      "source": [
        "### Check the length"
      ],
      "metadata": {
        "id": "UR-D6eZPm9TX"
      }
    },
    {
      "cell_type": "code",
      "source": [
        "len(best_asins)"
      ],
      "metadata": {
        "id": "1sYqE9ebm_ji"
      },
      "execution_count": null,
      "outputs": []
    },
    {
      "cell_type": "markdown",
      "source": [
        "## Finalizing your data prep"
      ],
      "metadata": {
        "id": "bkOPN4OQnuGT"
      }
    },
    {
      "cell_type": "markdown",
      "source": [
        "This lab has been all about segmenting products by sales rank, and a lot of that work is now done. But, in the end, we don't just want the list of products ... we want the product reviews so that we can discover interesting things such as what are customers saying about the best selling products.\n",
        "\n",
        "Now that you've prepared a set of ASINs of products worth analyzing, you will do the work of collecting their reviews. Recall that the reviews are contained in the second JSON-L data file."
      ],
      "metadata": {
        "id": "70ImjDhUn00o"
      }
    },
    {
      "cell_type": "markdown",
      "source": [
        "## 🔨 Do the work"
      ],
      "metadata": {
        "id": "6dO3mbXDp2L6"
      }
    },
    {
      "cell_type": "markdown",
      "source": [
        "The code block below sets you up to iterate the review data.\n",
        "\n",
        "In order to collect the reviews into a useful data structure, we will create a concept of a key that is made up of the asin.reviewerID. Constructing this ID might look something like this, given `review` as the data structure of a single review:\n",
        "\n",
        "```\n",
        "review_id = \"%s.%s\" % (review[\"asin\"], review[\"reviewerID\"]\n",
        "```"
      ],
      "metadata": {
        "id": "nq399MSSp9EH"
      }
    },
    {
      "cell_type": "markdown",
      "source": [
        "To complete the code block below, do the work of collecting the reviews of the top ASINs (remember our best_asins list above) keyed by the special ID for the review, e.g.:\n",
        "\n",
        "```\n",
        "top_reviews[review_id] = review\n",
        "```"
      ],
      "metadata": {
        "id": "zSV8IJCzr7-x"
      }
    },
    {
      "cell_type": "code",
      "source": [
        "top_reviews = {}\n",
        "\n",
        "with gzip.open(\"drive/MyDrive/reviews_Clothing_Shoes_and_Jewelry.json.gz\") as reviews:\n",
        "    for i, review in enumerate(reviews):\n",
        "        review = json.loads(review)\n",
        "        # REMEMBER to remove this break once you have things working!!!\n",
        "        if i > 50000: # it takes a while to hit any Nike products in the data\n",
        "            break\n",
        "\n",
        "        _id = \"%s.%s\" % (review[\"asin\"], review[\"reviewerID\"])\n",
        "\n",
        "        # TODO: if the asin is in best_asins, add the review to top_reviews\n",
        "        #       keyed by the newly constructed _id"
      ],
      "metadata": {
        "id": "liCv2Y9LoSra"
      },
      "execution_count": null,
      "outputs": []
    },
    {
      "cell_type": "markdown",
      "source": [
        "### Check the length of the resulting review set"
      ],
      "metadata": {
        "id": "La3hAX4iDa30"
      }
    },
    {
      "cell_type": "code",
      "source": [
        "len(top_reviews)"
      ],
      "metadata": {
        "id": "cP0-0KBjsreZ"
      },
      "execution_count": null,
      "outputs": []
    },
    {
      "cell_type": "markdown",
      "source": [
        "---\n",
        "\n",
        "## 🧐 Lab Quiz Question #4"
      ],
      "metadata": {
        "id": "dVgxfNIODmv5"
      }
    },
    {
      "cell_type": "markdown",
      "source": [
        "How many Nike product reviews are there for products that rank in the top 3000 of their sales category?\n",
        "\n",
        "Use the length of `top_reviews` to answer this question.\n",
        "\n",
        "---\n",
        "\n"
      ],
      "metadata": {
        "id": "KLvyt4PeDw87"
      }
    },
    {
      "cell_type": "markdown",
      "source": [
        "## 📓 Lab summary"
      ],
      "metadata": {
        "id": "hmlQuJpaEO22"
      }
    },
    {
      "cell_type": "markdown",
      "source": [
        "In this lab, we tackled some aggregation, extraction, and segmentation tasks typically associated with the pre-processing phase of a data analytics job.\n",
        "\n",
        "A few things we discovered along the way:\n",
        "\n",
        " * Sales data can be tricky to deal with, and may not be consistent even when coming from the same source.\n",
        " * Directly inspecting the data is often necessary, and we should not assume that data entries will be consistently contstructed, and consistency can be impacted by the chosen data distribution format.\n",
        "\n",
        "\n",
        "In a coming assignment, you will revisit the idea of segmentation by NLP techniques to extract only reviews with negative sentiment.\n",
        "\n"
      ],
      "metadata": {
        "id": "EJ9n5ZAVEWwe"
      }
    },
    {
      "cell_type": "markdown",
      "source": [
        "## Save top reviews as a JSON-Lines file for use in Lab 3.\n",
        "\n",
        "In an upcoming module, you will complete a lab where you will use deep learning techniques to produce a topic model of the top product reviews. Execute the following code to save those reviews to a JSON-L file for use in that lab."
      ],
      "metadata": {
        "id": "HVOzflW8G8Oi"
      }
    },
    {
      "cell_type": "code",
      "source": [
        "with open(\"drive/MyDrive/MSDS_Lab1_TopReviews.jsonl\", \"w\") as top_reviews_file:\n",
        "    for k, v in top_reviews.items():\n",
        "        review = json.dumps(v)\n",
        "        top_reviews_file.write(f\"{review}\\n\")"
      ],
      "metadata": {
        "id": "VFyaG4HXG_f4"
      },
      "execution_count": null,
      "outputs": []
    }
  ]
}